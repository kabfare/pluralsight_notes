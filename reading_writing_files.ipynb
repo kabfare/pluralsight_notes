{
 "cells": [
  {
   "attachments": {},
   "cell_type": "markdown",
   "metadata": {},
   "source": [
    "### Reading and Writing Files"
   ]
  },
  {
   "cell_type": "code",
   "execution_count": null,
   "metadata": {},
   "outputs": [],
   "source": [
    "sales_log=open('spam_orders.txt', 'w') #Open file='sales_log', file name='spam_orders.txt', mode='w' (write, r=read, a=append)\n",
    "\n",
    "sales_log.write('The Spam Van\\n') #writing to the file\n",
    "sales_log.write('Sales Log')\n",
    "\n",
    "sales_log.close() #closing the file"
   ]
  },
  {
   "attachments": {},
   "cell_type": "markdown",
   "metadata": {},
   "source": [
    "### Example"
   ]
  },
  {
   "cell_type": "code",
   "execution_count": 2,
   "metadata": {},
   "outputs": [],
   "source": [
    "def write_sales_log(order):\n",
    "    file=open('sales.txt','a') #a for append\n",
    "\n",
    "    total=0\n",
    "    for item, price in order.items():\n",
    "        file.write(item+' '+format(price, '.2f')+'\\n') #writes to the .txt in a format we want\n",
    "        total=+price\n",
    "    \n",
    "    file.write('total = ' +format(total, '.2f')+'\\n\\n')\n",
    "    file.close()\n",
    "\n",
    "def main():\n",
    "    order={'Cheeky Spam':1.0,'Yonks Spam':4.0}\n",
    "    write_sales_log(order)\n",
    "    order={'Cheerio Spam':1.0, 'Smashing Spam':3.0}\n",
    "    write_sales_log(order)\n",
    "\n",
    "main()"
   ]
  },
  {
   "attachments": {},
   "cell_type": "markdown",
   "metadata": {},
   "source": [
    "### Reading Files"
   ]
  },
  {
   "cell_type": "code",
   "execution_count": null,
   "metadata": {},
   "outputs": [],
   "source": [
    "def read_dollar_menu():\n",
    "    dollar_spam=open('dollar_menu.txt', 'r') #opening the file in read mode\n",
    "\n",
    "    dollar_menu=[]\n",
    "    for line in dollar_spam:\n",
    "        line=line.strip() #strips the whitespace (\\n) included\n",
    "        dollar_menu.append(line) #combines all items into a list\n",
    "    \n",
    "    print(dollar_menu)\n",
    "    dollar_spam.close()"
   ]
  },
  {
   "attachments": {},
   "cell_type": "markdown",
   "metadata": {},
   "source": [
    "## Try / Except\n"
   ]
  },
  {
   "cell_type": "code",
   "execution_count": null,
   "metadata": {},
   "outputs": [],
   "source": [
    "#Try is used to signal an err to the user, and then continue with the code\n",
    "#Example:\n",
    "\n",
    "performaces={}\n",
    "try:\n",
    "    schedule_file=open('schedule.txt', 'r')\n",
    "except FileNotFoundError as err:\n",
    "    print(err) #You can also print a custom string message like \"File doesn't exist\"\n",
    "\n",
    "for line in schedule_file: #Continuing with the code\n",
    "    (show, time)=line.split(' - ')\n",
    "    performances[show]=time.strip()\n",
    "\n",
    "schedule_file.close()\n",
    "\n",
    "print(performances)"
   ]
  }
 ],
 "metadata": {
  "kernelspec": {
   "display_name": "Python 3",
   "language": "python",
   "name": "python3"
  },
  "language_info": {
   "codemirror_mode": {
    "name": "ipython",
    "version": 3
   },
   "file_extension": ".py",
   "mimetype": "text/x-python",
   "name": "python",
   "nbconvert_exporter": "python",
   "pygments_lexer": "ipython3",
   "version": "3.11.0 (main, Oct 24 2022, 18:26:48) [MSC v.1933 64 bit (AMD64)]"
  },
  "orig_nbformat": 4,
  "vscode": {
   "interpreter": {
    "hash": "3b33197f54cf45526fd992dea7d6737f6129876888be5b26e4841c37f9b8eed6"
   }
  }
 },
 "nbformat": 4,
 "nbformat_minor": 2
}
