{
 "cells": [
  {
   "attachments": {},
   "cell_type": "markdown",
   "metadata": {},
   "source": [
    "# Modules"
   ]
  },
  {
   "attachments": {},
   "cell_type": "markdown",
   "metadata": {},
   "source": [
    "### Installing Modules with Pip"
   ]
  },
  {
   "cell_type": "code",
   "execution_count": null,
   "metadata": {},
   "outputs": [],
   "source": [
    "#Pip is a package manager that will instal modules for us\n",
    "pip install #(module name)"
   ]
  },
  {
   "attachments": {},
   "cell_type": "markdown",
   "metadata": {},
   "source": [
    "### Example"
   ]
  },
  {
   "cell_type": "code",
   "execution_count": 1,
   "metadata": {},
   "outputs": [
    {
     "name": "stdout",
     "output_type": "stream",
     "text": [
      "Today's Menu\n",
      "Omelet: Yummy, $3.00\n",
      "Burrito: Breakfast Burrito, $5.75\n",
      "Waffles: Belgian Waffles With Syrup, $4.50\n"
     ]
    }
   ],
   "source": [
    "\n",
    "import requests #Import the module\n",
    "\n",
    "my_request=requests.get('http://go.codeschool.com/spamvanmenu') #Call request.get() with our URL\n",
    "\n",
    "menu_list=my_request.json() #Get the response in JSON format\n",
    "\n",
    "print(\"Today's Menu\")\n",
    "for item in menu_list:\n",
    "    print(item['name'], ': ', item['desc'].title(), ', $', item['price'], sep='')"
   ]
  },
  {
   "attachments": {},
   "cell_type": "markdown",
   "metadata": {},
   "source": [
    "### Example 2"
   ]
  },
  {
   "cell_type": "code",
   "execution_count": null,
   "metadata": {},
   "outputs": [],
   "source": [
    "import requests\n",
    "  \n",
    "url = \"http://api.openweathermap.org/data/2.5/weather?q=Miami&units=imperial&appid=67da29cb91129f1a68c1c06c1be92daa\"\n",
    "request = requests.get(url)\n",
    "\n",
    "weather_json = request.json()\n",
    "\n",
    "main_weather=weather_json['main'] #pulling key 'main' from weather_json\n",
    "temp=main_weather['temp'] #pulling val 'temp' from 'main' key\n",
    "\n",
    "print(\"The Circus's current temperature is\", temp)"
   ]
  },
  {
   "attachments": {},
   "cell_type": "markdown",
   "metadata": {},
   "source": [
    "## Creating Modules"
   ]
  },
  {
   "attachments": {},
   "cell_type": "markdown",
   "metadata": {},
   "source": [
    "You can organize long code by breaking up individual functions into separate files and importing them into your main codde file"
   ]
  },
  {
   "cell_type": "code",
   "execution_count": null,
   "metadata": {},
   "outputs": [],
   "source": [
    "#orders.py\n",
    "def print_menu(menu):\n",
    "###\n",
    "def get_order(menu):\n",
    "###\n",
    "def total_bill(orders, menu):\n",
    "###\n",
    "\n",
    "#spam.py\n",
    "import orders#(.py)\n",
    "\n",
    "def main():\n",
    "    menu={'Cheerio Spam' : 0.50, ... }\n",
    "    orders.print_menu(menu) #telling the main() that this function is in orders.py\n",
    "    orders=orders.get_order(menu)\n",
    "    total=orders.bill_total(orders, menu)\n",
    "    print('You ordered:', order, 'Total:', total)"
   ]
  }
 ],
 "metadata": {
  "kernelspec": {
   "display_name": "base",
   "language": "python",
   "name": "python3"
  },
  "language_info": {
   "codemirror_mode": {
    "name": "ipython",
    "version": 3
   },
   "file_extension": ".py",
   "mimetype": "text/x-python",
   "name": "python",
   "nbconvert_exporter": "python",
   "pygments_lexer": "ipython3",
   "version": "3.9.13 (main, Aug 25 2022, 23:51:50) [MSC v.1916 64 bit (AMD64)]"
  },
  "orig_nbformat": 4,
  "vscode": {
   "interpreter": {
    "hash": "f0e5e5f349978ae7d760622fd9024efc969e56bd45562a233a5f9543b839f570"
   }
  }
 },
 "nbformat": 4,
 "nbformat_minor": 2
}
