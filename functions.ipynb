{
 "cells": [
  {
   "cell_type": "code",
   "execution_count": 1,
   "metadata": {},
   "outputs": [],
   "source": [
    "def average(prices):\n",
    "    total=0\n",
    "\n",
    "    for price in prices:\n",
    "        total=total+price\n",
    "\n",
    "    avg=total/len(prices)\n",
    "    return avg"
   ]
  },
  {
   "cell_type": "code",
   "execution_count": 4,
   "metadata": {},
   "outputs": [
    {
     "name": "stdout",
     "output_type": "stream",
     "text": [
      "3.0\n"
     ]
    }
   ],
   "source": [
    "def main():\n",
    "    numbers=[1,2,3,4,5]\n",
    "    my_average=average(numbers)\n",
    "    print(my_average)\n",
    "\n",
    "main()"
   ]
  }
 ],
 "metadata": {
  "kernelspec": {
   "display_name": "Python 3",
   "language": "python",
   "name": "python3"
  },
  "language_info": {
   "codemirror_mode": {
    "name": "ipython",
    "version": 3
   },
   "file_extension": ".py",
   "mimetype": "text/x-python",
   "name": "python",
   "nbconvert_exporter": "python",
   "pygments_lexer": "ipython3",
   "version": "3.11.1"
  },
  "orig_nbformat": 4,
  "vscode": {
   "interpreter": {
    "hash": "9fbf9af1c0f307412a0d9c19e1e81036f12aab192b721ed81cdfb28d21b14e2c"
   }
  }
 },
 "nbformat": 4,
 "nbformat_minor": 2
}
