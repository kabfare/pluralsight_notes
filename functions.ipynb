{
 "cells": [
  {
   "cell_type": "code",
   "execution_count": 1,
   "metadata": {},
   "outputs": [],
   "source": [
    "def average(prices):\n",
    "    total=0\n",
    "\n",
    "    for price in prices:\n",
    "        total=total+price\n",
    "\n",
    "    avg=total/len(prices)\n",
    "    return avg"
   ]
  },
  {
   "cell_type": "code",
   "execution_count": 4,
   "metadata": {},
   "outputs": [
    {
     "name": "stdout",
     "output_type": "stream",
     "text": [
      "3.0\n"
     ]
    }
   ],
   "source": [
    "def main():\n",
    "    numbers=[1,2,3,4,5]\n",
    "    my_average=average(numbers)\n",
    "    print(my_average)\n",
    "\n",
    "main()"
   ]
  }
 ],
 "metadata": {
  "kernelspec": {
   "display_name": "Python 3",
   "language": "python",
   "name": "python3"
  },
  "language_info": {
   "codemirror_mode": {
    "name": "ipython",
    "version": 3
   },
   "file_extension": ".py",
   "mimetype": "text/x-python",
   "name": "python",
   "nbconvert_exporter": "python",
   "pygments_lexer": "ipython3",
   "version": "3.11.0 (main, Oct 24 2022, 18:26:48) [MSC v.1933 64 bit (AMD64)]"
  },
  "orig_nbformat": 4,
  "vscode": {
   "interpreter": {
    "hash": "3b33197f54cf45526fd992dea7d6737f6129876888be5b26e4841c37f9b8eed6"
   }
  }
 },
 "nbformat": 4,
 "nbformat_minor": 2
}
