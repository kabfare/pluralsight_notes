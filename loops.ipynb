{
 "cells": [
  {
   "attachments": {},
   "cell_type": "markdown",
   "metadata": {},
   "source": [
    "### Loops"
   ]
  },
  {
   "cell_type": "code",
   "execution_count": 1,
   "metadata": {},
   "outputs": [
    {
     "name": "stdout",
     "output_type": "stream",
     "text": [
      "avg is 3.5\n"
     ]
    }
   ],
   "source": [
    "#Average price\n",
    "total=0\n",
    "prices=[2.50,3.50,4.50]\n",
    "\n",
    "for price in prices:\n",
    "    total=total+price\n",
    "\n",
    "average=total/len(prices)\n",
    "print('avg is', average)"
   ]
  },
  {
   "cell_type": "code",
   "execution_count": 2,
   "metadata": {},
   "outputs": [
    {
     "name": "stdout",
     "output_type": "stream",
     "text": [
      "809\n",
      "582\n",
      "304\n",
      "55\n",
      "222\n",
      "266\n",
      "313\n",
      "95\n",
      "385\n",
      "487\n"
     ]
    }
   ],
   "source": [
    "import random #Importing the \"random\" module\n",
    "for i in range(10): #requesting a range of 10 int\n",
    "    ticket=random.randint(1,1000) #ticket is from a range of 1000 int\n",
    "    print(ticket)"
   ]
  },
  {
   "cell_type": "code",
   "execution_count": 3,
   "metadata": {},
   "outputs": [
    {
     "name": "stdout",
     "output_type": "stream",
     "text": [
      "2005\n",
      "2007\n",
      "2009\n",
      "2011\n",
      "2013\n",
      "2015\n"
     ]
    }
   ],
   "source": [
    "for i in range(2005, 2016, 2): #range(start, stop, step)\n",
    "    print(i) #using the temporary value"
   ]
  },
  {
   "cell_type": "code",
   "execution_count": 7,
   "metadata": {},
   "outputs": [
    {
     "name": "stdout",
     "output_type": "stream",
     "text": [
      "['Knackered Spam', 'Pip pip Spam', 'Squidgy Spam', 'Smashing Spam']\n"
     ]
    }
   ],
   "source": [
    "slang=['Knackered','Pip pip','Squidgy','Smashing']\n",
    "menu=[]\n",
    "for word in slang:\n",
    "    menu.append(word+' Spam') #appending a word to the end of the list words\n",
    "\n",
    "print(menu)"
   ]
  },
  {
   "cell_type": "code",
   "execution_count": 1,
   "metadata": {},
   "outputs": [
    {
     "name": "stdout",
     "output_type": "stream",
     "text": [
      "{'Knackered Spam': 0.5, 'Pip pip Spam': 1.5, 'Squidgy Spam': 2.5, 'Smashing Spam': 3.5}\n",
      "Knackered Spam: $0.50\n",
      "Pip pip Spam: $1.50\n",
      "Squidgy Spam: $2.50\n",
      "Smashing Spam: $3.50\n"
     ]
    }
   ],
   "source": [
    "menu=['Knackered Spam', 'Pip pip Spam', 'Squidgy Spam', 'Smashing Spam']\n",
    "#Storing menu items with their prices in a dictionary\n",
    "menu_prices={}\n",
    "price=0.50\n",
    "for item in menu:\n",
    "    menu_prices[item]=price\n",
    "    price=price+1\n",
    "print(menu_prices)\n",
    "\n",
    "for name, price in menu_prices.items():\n",
    "    print(name, ': $', format(price, '.2f'), sep='') #.2f= 2 decimal places for a float"
   ]
  },
  {
   "cell_type": "code",
   "execution_count": 13,
   "metadata": {},
   "outputs": [],
   "source": [
    "menu=['Knackered Spam', 'Pip pip Spam', 'Squidgy Spam', 'Smashing Spam']\n",
    "menu_prices={'Knackered Spam': 0.5, 'Pip pip Spam': 1.5, 'Squidgy Spam': 2.5, 'Smashing Spam': 3.5}\n",
    "\n",
    "orders=[]\n",
    "order=input('What would you like to order? (Q to Quit)')\n",
    "\n",
    "while (order.upper() != 'Q'):\n",
    "    #Find the order and add it to the list if it exists\n",
    "    found=menu.get(order)\n",
    "    if found:\n",
    "        orders.append(order)\n",
    "    else:\n",
    "        print(\"Menu item doesn't exist\")\n",
    "    order=input('Anything else? (Q to Quit)')\n",
    "print(orders)\n"
   ]
  },
  {
   "cell_type": "code",
   "execution_count": null,
   "metadata": {},
   "outputs": [],
   "source": []
  }
 ],
 "metadata": {
  "kernelspec": {
   "display_name": "Python 3",
   "language": "python",
   "name": "python3"
  },
  "language_info": {
   "codemirror_mode": {
    "name": "ipython",
    "version": 3
   },
   "file_extension": ".py",
   "mimetype": "text/x-python",
   "name": "python",
   "nbconvert_exporter": "python",
   "pygments_lexer": "ipython3",
   "version": "3.11.1"
  },
  "orig_nbformat": 4,
  "vscode": {
   "interpreter": {
    "hash": "3b33197f54cf45526fd992dea7d6737f6129876888be5b26e4841c37f9b8eed6"
   }
  }
 },
 "nbformat": 4,
 "nbformat_minor": 2
}
